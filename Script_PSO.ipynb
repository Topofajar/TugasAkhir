{
  "nbformat": 4,
  "nbformat_minor": 0,
  "metadata": {
    "colab": {
      "provenance": [],
      "toc_visible": true,
      "authorship_tag": "ABX9TyOHVTImyh+NUnKX7RuTjAcA",
      "include_colab_link": true
    },
    "kernelspec": {
      "name": "python3",
      "display_name": "Python 3"
    },
    "language_info": {
      "name": "python"
    }
  },
  "cells": [
    {
      "cell_type": "markdown",
      "metadata": {
        "id": "view-in-github",
        "colab_type": "text"
      },
      "source": [
        "<a href=\"https://colab.research.google.com/github/Topofajar/TugasAkhir/blob/main/Script_PSO.ipynb\" target=\"_parent\"><img src=\"https://colab.research.google.com/assets/colab-badge.svg\" alt=\"Open In Colab\"/></a>"
      ]
    },
    {
      "cell_type": "code",
      "source": [],
      "metadata": {
        "id": "WcXu-O5jMAfV"
      },
      "execution_count": null,
      "outputs": []
    },
    {
      "cell_type": "markdown",
      "source": [
        "# PSO sumber Youtube\n",
        "![picture](hhttps://drive.google.com/uc?id=1rpNcNW6bSpLvM8WhAWgDiHMm_RBmhWYi/view?usp=sharing)"
      ],
      "metadata": {
        "id": "7n19vR0xOBk8"
      }
    },
    {
      "cell_type": "code",
      "source": [],
      "metadata": {
        "id": "JEZA75WYPUCM"
      },
      "execution_count": null,
      "outputs": []
    },
    {
      "cell_type": "code",
      "execution_count": null,
      "metadata": {
        "id": "lbBSStEKI4CU"
      },
      "outputs": [],
      "source": []
    },
    {
      "cell_type": "code",
      "source": [],
      "metadata": {
        "id": "Y-FizfGqLQ2v"
      },
      "execution_count": null,
      "outputs": []
    }
  ]
}